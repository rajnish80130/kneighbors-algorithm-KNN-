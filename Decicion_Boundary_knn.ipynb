{
  "nbformat": 4,
  "nbformat_minor": 0,
  "metadata": {
    "colab": {
      "provenance": [],
      "authorship_tag": "ABX9TyN1NuCTmIStL6EI5jjbbv6b",
      "include_colab_link": true
    },
    "kernelspec": {
      "name": "python3",
      "display_name": "Python 3"
    },
    "language_info": {
      "name": "python"
    }
  },
  "cells": [
    {
      "cell_type": "markdown",
      "metadata": {
        "id": "view-in-github",
        "colab_type": "text"
      },
      "source": [
        "<a href=\"https://colab.research.google.com/github/rajnish80130/kneighbors-algorithm-KNN-/blob/main/Decicion_Boundary_knn.ipynb\" target=\"_parent\"><img src=\"https://colab.research.google.com/assets/colab-badge.svg\" alt=\"Open In Colab\"/></a>"
      ]
    },
    {
      "cell_type": "code",
      "execution_count": 1,
      "metadata": {
        "id": "gAOU0_Gs0RtW"
      },
      "outputs": [],
      "source": [
        "import numpy as np\n",
        "import pandas as pd\n",
        "import matplotlib.pyplot as plt"
      ]
    },
    {
      "cell_type": "code",
      "source": [
        "data=pd.read_csv('Social_Network_Ads.csv')\n",
        "data.head()"
      ],
      "metadata": {
        "colab": {
          "base_uri": "https://localhost:8080/",
          "height": 206
        },
        "id": "0808FWy20447",
        "outputId": "4bab8fbc-d84f-4e1d-f817-1e2d2fdbeb14"
      },
      "execution_count": 2,
      "outputs": [
        {
          "output_type": "execute_result",
          "data": {
            "text/plain": [
              "    User ID  Gender  Age  EstimatedSalary  Purchased\n",
              "0  15624510    Male   19            19000          0\n",
              "1  15810944    Male   35            20000          0\n",
              "2  15668575  Female   26            43000          0\n",
              "3  15603246  Female   27            57000          0\n",
              "4  15804002    Male   19            76000          0"
            ],
            "text/html": [
              "\n",
              "  <div id=\"df-c81f94ab-8555-47db-a872-c83c09723140\" class=\"colab-df-container\">\n",
              "    <div>\n",
              "<style scoped>\n",
              "    .dataframe tbody tr th:only-of-type {\n",
              "        vertical-align: middle;\n",
              "    }\n",
              "\n",
              "    .dataframe tbody tr th {\n",
              "        vertical-align: top;\n",
              "    }\n",
              "\n",
              "    .dataframe thead th {\n",
              "        text-align: right;\n",
              "    }\n",
              "</style>\n",
              "<table border=\"1\" class=\"dataframe\">\n",
              "  <thead>\n",
              "    <tr style=\"text-align: right;\">\n",
              "      <th></th>\n",
              "      <th>User ID</th>\n",
              "      <th>Gender</th>\n",
              "      <th>Age</th>\n",
              "      <th>EstimatedSalary</th>\n",
              "      <th>Purchased</th>\n",
              "    </tr>\n",
              "  </thead>\n",
              "  <tbody>\n",
              "    <tr>\n",
              "      <th>0</th>\n",
              "      <td>15624510</td>\n",
              "      <td>Male</td>\n",
              "      <td>19</td>\n",
              "      <td>19000</td>\n",
              "      <td>0</td>\n",
              "    </tr>\n",
              "    <tr>\n",
              "      <th>1</th>\n",
              "      <td>15810944</td>\n",
              "      <td>Male</td>\n",
              "      <td>35</td>\n",
              "      <td>20000</td>\n",
              "      <td>0</td>\n",
              "    </tr>\n",
              "    <tr>\n",
              "      <th>2</th>\n",
              "      <td>15668575</td>\n",
              "      <td>Female</td>\n",
              "      <td>26</td>\n",
              "      <td>43000</td>\n",
              "      <td>0</td>\n",
              "    </tr>\n",
              "    <tr>\n",
              "      <th>3</th>\n",
              "      <td>15603246</td>\n",
              "      <td>Female</td>\n",
              "      <td>27</td>\n",
              "      <td>57000</td>\n",
              "      <td>0</td>\n",
              "    </tr>\n",
              "    <tr>\n",
              "      <th>4</th>\n",
              "      <td>15804002</td>\n",
              "      <td>Male</td>\n",
              "      <td>19</td>\n",
              "      <td>76000</td>\n",
              "      <td>0</td>\n",
              "    </tr>\n",
              "  </tbody>\n",
              "</table>\n",
              "</div>\n",
              "    <div class=\"colab-df-buttons\">\n",
              "\n",
              "  <div class=\"colab-df-container\">\n",
              "    <button class=\"colab-df-convert\" onclick=\"convertToInteractive('df-c81f94ab-8555-47db-a872-c83c09723140')\"\n",
              "            title=\"Convert this dataframe to an interactive table.\"\n",
              "            style=\"display:none;\">\n",
              "\n",
              "  <svg xmlns=\"http://www.w3.org/2000/svg\" height=\"24px\" viewBox=\"0 -960 960 960\">\n",
              "    <path d=\"M120-120v-720h720v720H120Zm60-500h600v-160H180v160Zm220 220h160v-160H400v160Zm0 220h160v-160H400v160ZM180-400h160v-160H180v160Zm440 0h160v-160H620v160ZM180-180h160v-160H180v160Zm440 0h160v-160H620v160Z\"/>\n",
              "  </svg>\n",
              "    </button>\n",
              "\n",
              "  <style>\n",
              "    .colab-df-container {\n",
              "      display:flex;\n",
              "      gap: 12px;\n",
              "    }\n",
              "\n",
              "    .colab-df-convert {\n",
              "      background-color: #E8F0FE;\n",
              "      border: none;\n",
              "      border-radius: 50%;\n",
              "      cursor: pointer;\n",
              "      display: none;\n",
              "      fill: #1967D2;\n",
              "      height: 32px;\n",
              "      padding: 0 0 0 0;\n",
              "      width: 32px;\n",
              "    }\n",
              "\n",
              "    .colab-df-convert:hover {\n",
              "      background-color: #E2EBFA;\n",
              "      box-shadow: 0px 1px 2px rgba(60, 64, 67, 0.3), 0px 1px 3px 1px rgba(60, 64, 67, 0.15);\n",
              "      fill: #174EA6;\n",
              "    }\n",
              "\n",
              "    .colab-df-buttons div {\n",
              "      margin-bottom: 4px;\n",
              "    }\n",
              "\n",
              "    [theme=dark] .colab-df-convert {\n",
              "      background-color: #3B4455;\n",
              "      fill: #D2E3FC;\n",
              "    }\n",
              "\n",
              "    [theme=dark] .colab-df-convert:hover {\n",
              "      background-color: #434B5C;\n",
              "      box-shadow: 0px 1px 3px 1px rgba(0, 0, 0, 0.15);\n",
              "      filter: drop-shadow(0px 1px 2px rgba(0, 0, 0, 0.3));\n",
              "      fill: #FFFFFF;\n",
              "    }\n",
              "  </style>\n",
              "\n",
              "    <script>\n",
              "      const buttonEl =\n",
              "        document.querySelector('#df-c81f94ab-8555-47db-a872-c83c09723140 button.colab-df-convert');\n",
              "      buttonEl.style.display =\n",
              "        google.colab.kernel.accessAllowed ? 'block' : 'none';\n",
              "\n",
              "      async function convertToInteractive(key) {\n",
              "        const element = document.querySelector('#df-c81f94ab-8555-47db-a872-c83c09723140');\n",
              "        const dataTable =\n",
              "          await google.colab.kernel.invokeFunction('convertToInteractive',\n",
              "                                                    [key], {});\n",
              "        if (!dataTable) return;\n",
              "\n",
              "        const docLinkHtml = 'Like what you see? Visit the ' +\n",
              "          '<a target=\"_blank\" href=https://colab.research.google.com/notebooks/data_table.ipynb>data table notebook</a>'\n",
              "          + ' to learn more about interactive tables.';\n",
              "        element.innerHTML = '';\n",
              "        dataTable['output_type'] = 'display_data';\n",
              "        await google.colab.output.renderOutput(dataTable, element);\n",
              "        const docLink = document.createElement('div');\n",
              "        docLink.innerHTML = docLinkHtml;\n",
              "        element.appendChild(docLink);\n",
              "      }\n",
              "    </script>\n",
              "  </div>\n",
              "\n",
              "\n",
              "<div id=\"df-392a979e-19ed-46c3-955d-96b51d5d7f36\">\n",
              "  <button class=\"colab-df-quickchart\" onclick=\"quickchart('df-392a979e-19ed-46c3-955d-96b51d5d7f36')\"\n",
              "            title=\"Suggest charts\"\n",
              "            style=\"display:none;\">\n",
              "\n",
              "<svg xmlns=\"http://www.w3.org/2000/svg\" height=\"24px\"viewBox=\"0 0 24 24\"\n",
              "     width=\"24px\">\n",
              "    <g>\n",
              "        <path d=\"M19 3H5c-1.1 0-2 .9-2 2v14c0 1.1.9 2 2 2h14c1.1 0 2-.9 2-2V5c0-1.1-.9-2-2-2zM9 17H7v-7h2v7zm4 0h-2V7h2v10zm4 0h-2v-4h2v4z\"/>\n",
              "    </g>\n",
              "</svg>\n",
              "  </button>\n",
              "\n",
              "<style>\n",
              "  .colab-df-quickchart {\n",
              "      --bg-color: #E8F0FE;\n",
              "      --fill-color: #1967D2;\n",
              "      --hover-bg-color: #E2EBFA;\n",
              "      --hover-fill-color: #174EA6;\n",
              "      --disabled-fill-color: #AAA;\n",
              "      --disabled-bg-color: #DDD;\n",
              "  }\n",
              "\n",
              "  [theme=dark] .colab-df-quickchart {\n",
              "      --bg-color: #3B4455;\n",
              "      --fill-color: #D2E3FC;\n",
              "      --hover-bg-color: #434B5C;\n",
              "      --hover-fill-color: #FFFFFF;\n",
              "      --disabled-bg-color: #3B4455;\n",
              "      --disabled-fill-color: #666;\n",
              "  }\n",
              "\n",
              "  .colab-df-quickchart {\n",
              "    background-color: var(--bg-color);\n",
              "    border: none;\n",
              "    border-radius: 50%;\n",
              "    cursor: pointer;\n",
              "    display: none;\n",
              "    fill: var(--fill-color);\n",
              "    height: 32px;\n",
              "    padding: 0;\n",
              "    width: 32px;\n",
              "  }\n",
              "\n",
              "  .colab-df-quickchart:hover {\n",
              "    background-color: var(--hover-bg-color);\n",
              "    box-shadow: 0 1px 2px rgba(60, 64, 67, 0.3), 0 1px 3px 1px rgba(60, 64, 67, 0.15);\n",
              "    fill: var(--button-hover-fill-color);\n",
              "  }\n",
              "\n",
              "  .colab-df-quickchart-complete:disabled,\n",
              "  .colab-df-quickchart-complete:disabled:hover {\n",
              "    background-color: var(--disabled-bg-color);\n",
              "    fill: var(--disabled-fill-color);\n",
              "    box-shadow: none;\n",
              "  }\n",
              "\n",
              "  .colab-df-spinner {\n",
              "    border: 2px solid var(--fill-color);\n",
              "    border-color: transparent;\n",
              "    border-bottom-color: var(--fill-color);\n",
              "    animation:\n",
              "      spin 1s steps(1) infinite;\n",
              "  }\n",
              "\n",
              "  @keyframes spin {\n",
              "    0% {\n",
              "      border-color: transparent;\n",
              "      border-bottom-color: var(--fill-color);\n",
              "      border-left-color: var(--fill-color);\n",
              "    }\n",
              "    20% {\n",
              "      border-color: transparent;\n",
              "      border-left-color: var(--fill-color);\n",
              "      border-top-color: var(--fill-color);\n",
              "    }\n",
              "    30% {\n",
              "      border-color: transparent;\n",
              "      border-left-color: var(--fill-color);\n",
              "      border-top-color: var(--fill-color);\n",
              "      border-right-color: var(--fill-color);\n",
              "    }\n",
              "    40% {\n",
              "      border-color: transparent;\n",
              "      border-right-color: var(--fill-color);\n",
              "      border-top-color: var(--fill-color);\n",
              "    }\n",
              "    60% {\n",
              "      border-color: transparent;\n",
              "      border-right-color: var(--fill-color);\n",
              "    }\n",
              "    80% {\n",
              "      border-color: transparent;\n",
              "      border-right-color: var(--fill-color);\n",
              "      border-bottom-color: var(--fill-color);\n",
              "    }\n",
              "    90% {\n",
              "      border-color: transparent;\n",
              "      border-bottom-color: var(--fill-color);\n",
              "    }\n",
              "  }\n",
              "</style>\n",
              "\n",
              "  <script>\n",
              "    async function quickchart(key) {\n",
              "      const quickchartButtonEl =\n",
              "        document.querySelector('#' + key + ' button');\n",
              "      quickchartButtonEl.disabled = true;  // To prevent multiple clicks.\n",
              "      quickchartButtonEl.classList.add('colab-df-spinner');\n",
              "      try {\n",
              "        const charts = await google.colab.kernel.invokeFunction(\n",
              "            'suggestCharts', [key], {});\n",
              "      } catch (error) {\n",
              "        console.error('Error during call to suggestCharts:', error);\n",
              "      }\n",
              "      quickchartButtonEl.classList.remove('colab-df-spinner');\n",
              "      quickchartButtonEl.classList.add('colab-df-quickchart-complete');\n",
              "    }\n",
              "    (() => {\n",
              "      let quickchartButtonEl =\n",
              "        document.querySelector('#df-392a979e-19ed-46c3-955d-96b51d5d7f36 button');\n",
              "      quickchartButtonEl.style.display =\n",
              "        google.colab.kernel.accessAllowed ? 'block' : 'none';\n",
              "    })();\n",
              "  </script>\n",
              "</div>\n",
              "\n",
              "    </div>\n",
              "  </div>\n"
            ],
            "application/vnd.google.colaboratory.intrinsic+json": {
              "type": "dataframe",
              "variable_name": "data",
              "summary": "{\n  \"name\": \"data\",\n  \"rows\": 400,\n  \"fields\": [\n    {\n      \"column\": \"User ID\",\n      \"properties\": {\n        \"dtype\": \"number\",\n        \"std\": 71658,\n        \"min\": 15566689,\n        \"max\": 15815236,\n        \"num_unique_values\": 400,\n        \"samples\": [\n          15697424,\n          15609669,\n          15776733\n        ],\n        \"semantic_type\": \"\",\n        \"description\": \"\"\n      }\n    },\n    {\n      \"column\": \"Gender\",\n      \"properties\": {\n        \"dtype\": \"category\",\n        \"num_unique_values\": 2,\n        \"samples\": [\n          \"Female\",\n          \"Male\"\n        ],\n        \"semantic_type\": \"\",\n        \"description\": \"\"\n      }\n    },\n    {\n      \"column\": \"Age\",\n      \"properties\": {\n        \"dtype\": \"number\",\n        \"std\": 10,\n        \"min\": 18,\n        \"max\": 60,\n        \"num_unique_values\": 43,\n        \"samples\": [\n          50,\n          39\n        ],\n        \"semantic_type\": \"\",\n        \"description\": \"\"\n      }\n    },\n    {\n      \"column\": \"EstimatedSalary\",\n      \"properties\": {\n        \"dtype\": \"number\",\n        \"std\": 34096,\n        \"min\": 15000,\n        \"max\": 150000,\n        \"num_unique_values\": 117,\n        \"samples\": [\n          117000,\n          76000\n        ],\n        \"semantic_type\": \"\",\n        \"description\": \"\"\n      }\n    },\n    {\n      \"column\": \"Purchased\",\n      \"properties\": {\n        \"dtype\": \"number\",\n        \"std\": 0,\n        \"min\": 0,\n        \"max\": 1,\n        \"num_unique_values\": 2,\n        \"samples\": [\n          1,\n          0\n        ],\n        \"semantic_type\": \"\",\n        \"description\": \"\"\n      }\n    }\n  ]\n}"
            }
          },
          "metadata": {},
          "execution_count": 2
        }
      ]
    },
    {
      "cell_type": "code",
      "source": [
        "data.shape"
      ],
      "metadata": {
        "colab": {
          "base_uri": "https://localhost:8080/"
        },
        "id": "QWxZ5Ndw1HFn",
        "outputId": "ac882aa2-a9a2-4018-8ee2-c5c98c9c9842"
      },
      "execution_count": 4,
      "outputs": [
        {
          "output_type": "execute_result",
          "data": {
            "text/plain": [
              "(400, 5)"
            ]
          },
          "metadata": {},
          "execution_count": 4
        }
      ]
    },
    {
      "cell_type": "code",
      "source": [
        "X=data.iloc[:,2:4].values"
      ],
      "metadata": {
        "id": "G-Sdau-305BB"
      },
      "execution_count": 6,
      "outputs": []
    },
    {
      "cell_type": "code",
      "source": [
        "X.shape"
      ],
      "metadata": {
        "colab": {
          "base_uri": "https://localhost:8080/"
        },
        "id": "zSIXDLJu05D6",
        "outputId": "315b2665-3cb5-43da-f1cf-d1ec01b1505f"
      },
      "execution_count": 7,
      "outputs": [
        {
          "output_type": "execute_result",
          "data": {
            "text/plain": [
              "(400, 2)"
            ]
          },
          "metadata": {},
          "execution_count": 7
        }
      ]
    },
    {
      "cell_type": "code",
      "source": [
        "y=data.iloc[:,-1].values"
      ],
      "metadata": {
        "id": "lIH_xtGE05Ix"
      },
      "execution_count": 8,
      "outputs": []
    },
    {
      "cell_type": "code",
      "source": [
        "y.shape"
      ],
      "metadata": {
        "colab": {
          "base_uri": "https://localhost:8080/"
        },
        "id": "P1tNM8-l05MR",
        "outputId": "2bbe3f9d-e44b-4f41-ca84-eb4d20deb111"
      },
      "execution_count": 9,
      "outputs": [
        {
          "output_type": "execute_result",
          "data": {
            "text/plain": [
              "(400,)"
            ]
          },
          "metadata": {},
          "execution_count": 9
        }
      ]
    },
    {
      "cell_type": "code",
      "source": [
        "from sklearn.model_selection import train_test_split\n",
        "X_train,X_test,y_train,y_test=train_test_split(X,y,test_size=0.20)"
      ],
      "metadata": {
        "id": "ZXGU1VtN05Pl"
      },
      "execution_count": 10,
      "outputs": []
    },
    {
      "cell_type": "code",
      "source": [
        "X_train.shape"
      ],
      "metadata": {
        "colab": {
          "base_uri": "https://localhost:8080/"
        },
        "id": "8s3_bv0m1Y5q",
        "outputId": "b72d0e76-ded7-4459-d502-6d9ab151c435"
      },
      "execution_count": 11,
      "outputs": [
        {
          "output_type": "execute_result",
          "data": {
            "text/plain": [
              "(320, 2)"
            ]
          },
          "metadata": {},
          "execution_count": 11
        }
      ]
    },
    {
      "cell_type": "code",
      "source": [
        "X_test.shape"
      ],
      "metadata": {
        "colab": {
          "base_uri": "https://localhost:8080/"
        },
        "id": "ZqzGgl6C1Y8i",
        "outputId": "f5015d69-5eae-45ce-a3eb-3fbcb67b6ff1"
      },
      "execution_count": 12,
      "outputs": [
        {
          "output_type": "execute_result",
          "data": {
            "text/plain": [
              "(80, 2)"
            ]
          },
          "metadata": {},
          "execution_count": 12
        }
      ]
    },
    {
      "cell_type": "code",
      "source": [
        "from sklearn.preprocessing import StandardScaler\n",
        "scaler=StandardScaler()"
      ],
      "metadata": {
        "id": "q9-E96781ZDm"
      },
      "execution_count": 13,
      "outputs": []
    },
    {
      "cell_type": "code",
      "source": [
        "X_train=scaler.fit_transform(X_train)\n",
        "X_train"
      ],
      "metadata": {
        "colab": {
          "base_uri": "https://localhost:8080/"
        },
        "id": "ehS6u2nl1ZGy",
        "outputId": "6261d298-d26a-43a6-82a7-dd7c3ecaf772"
      },
      "execution_count": 14,
      "outputs": [
        {
          "output_type": "execute_result",
          "data": {
            "text/plain": [
              "array([[-0.22907003,  0.18740972],\n",
              "       [-1.07922683,  0.33592659],\n",
              "       [ 0.24323931, -0.64428474],\n",
              "       [-1.07922683,  0.51414683],\n",
              "       [-0.70137936,  1.96961214],\n",
              "       [-0.79584123,  0.42503671],\n",
              "       [ 0.33770117,  0.06859623],\n",
              "       [-0.22907003,  1.16762105],\n",
              "       [-0.13460816, -0.25814088],\n",
              "       [ 1.94355291, -0.9116151 ],\n",
              "       [ 1.84909105, -1.26805559],\n",
              "       [ 1.47124358,  0.39533334],\n",
              "       [-0.22907003, -0.28784426],\n",
              "       [-1.07922683,  0.33592659],\n",
              "       [-0.13460816,  1.70228178],\n",
              "       [-0.98476496, -0.347251  ],\n",
              "       [-1.55153617,  0.57355358],\n",
              "       [ 0.24323931,  0.18740972],\n",
              "       [-0.6069175 , -0.31754763],\n",
              "       [-0.22907003, -0.347251  ],\n",
              "       [ 0.62108678, -0.88191173],\n",
              "       [-0.41799376, -1.20864884],\n",
              "       [ 0.71554864, -1.38686908],\n",
              "       [ 1.56570545,  0.03889285],\n",
              "       [-0.13460816, -0.49576787],\n",
              "       [-1.26815056,  0.60325695],\n",
              "       [ 0.81001051,  0.30622322],\n",
              "       [-0.51245563,  1.52406154],\n",
              "       [-0.22907003,  0.0982996 ],\n",
              "       [ 0.43216304,  0.18740972],\n",
              "       [ 1.66016731,  1.82109527],\n",
              "       [ 0.90447238, -0.52547124],\n",
              "       [ 0.05431557, -0.40665775],\n",
              "       [-0.79584123, -0.76309823],\n",
              "       [ 0.52662491,  1.91020539],\n",
              "       [-1.55153617,  0.0982996 ],\n",
              "       [-0.04014629,  0.72207045],\n",
              "       [-0.41799376,  2.38545937],\n",
              "       [-0.22907003,  0.06859623],\n",
              "       [ 1.09339611, -1.20864884],\n",
              "       [ 0.99893424,  0.81118057],\n",
              "       [-0.98476496,  0.81118057],\n",
              "       [-0.22907003,  0.57355358],\n",
              "       [-0.70137936, -0.19873413],\n",
              "       [-0.98476496,  0.60325695],\n",
              "       [ 1.94355291,  2.2369425 ],\n",
              "       [-0.13460816,  1.46465479],\n",
              "       [-0.41799376, -0.82250498],\n",
              "       [-0.04014629,  0.15770635],\n",
              "       [ 0.05431557,  1.31613792],\n",
              "       [ 0.14877744,  0.06859623],\n",
              "       [ 0.05431557,  0.06859623],\n",
              "       [-0.79584123, -0.76309823],\n",
              "       [-1.64599803, -1.35716571],\n",
              "       [ 0.33770117, -0.52547124],\n",
              "       [-1.83492177, -0.02051389],\n",
              "       [ 0.81001051, -1.08983534],\n",
              "       [-1.55153617, -1.56508932],\n",
              "       [-0.8903031 , -1.08983534],\n",
              "       [ 1.37678171,  1.3458413 ],\n",
              "       [ 0.33770117,  0.0982996 ],\n",
              "       [ 0.52662491,  1.28643455],\n",
              "       [-0.04014629,  0.33592659],\n",
              "       [-1.36261243, -1.20864884],\n",
              "       [ 0.33770117,  0.0982996 ],\n",
              "       [-0.6069175 ,  0.06859623],\n",
              "       [ 0.90447238, -1.44627583],\n",
              "       [ 0.43216304,  0.30622322],\n",
              "       [-0.79584123, -1.20864884],\n",
              "       [-1.64599803,  0.39533334],\n",
              "       [-0.8903031 , -0.28784426],\n",
              "       [-1.83492177, -0.73339486],\n",
              "       [-0.51245563, -1.50568257],\n",
              "       [ 0.90447238, -0.64428474],\n",
              "       [-0.8903031 , -0.94131848],\n",
              "       [-0.51245563,  0.92999406],\n",
              "       [-1.4570743 , -0.16903076],\n",
              "       [ 0.81001051,  0.39533334],\n",
              "       [-0.98476496, -0.31754763],\n",
              "       [ 1.09339611, -0.97102185],\n",
              "       [-0.22907003, -1.44627583],\n",
              "       [ 0.14877744,  1.10821431],\n",
              "       [-0.79584123,  0.18740972],\n",
              "       [ 1.66016731,  1.67257841],\n",
              "       [-0.8903031 , -0.73339486],\n",
              "       [-0.32353189,  1.28643455],\n",
              "       [ 1.18785798, -0.97102185],\n",
              "       [-0.79584123,  0.33592659],\n",
              "       [ 1.09339611, -0.88191173],\n",
              "       [-1.1736887 ,  0.63296033],\n",
              "       [-1.64599803,  0.39533334],\n",
              "       [ 0.90447238,  2.2369425 ],\n",
              "       [-0.8903031 ,  1.61317166],\n",
              "       [-1.4570743 ,  0.36562996],\n",
              "       [-0.04014629,  0.06859623],\n",
              "       [ 0.43216304,  1.04880756],\n",
              "       [ 0.71554864, -1.38686908],\n",
              "       [ 2.03801478, -1.17894546],\n",
              "       [ 0.24323931,  0.06859623],\n",
              "       [-0.51245563,  2.41516275],\n",
              "       [-1.26815056, -1.4759792 ],\n",
              "       [-0.04014629, -0.4660645 ],\n",
              "       [ 0.05431557,  0.33592659],\n",
              "       [ 2.13247665,  0.98940081],\n",
              "       [-1.26815056, -0.40665775],\n",
              "       [-0.22907003, -1.29775896],\n",
              "       [-0.41799376,  0.00918948],\n",
              "       [ 0.14877744,  0.24681647],\n",
              "       [ 1.18785798, -0.73339486],\n",
              "       [-1.1736887 ,  0.33592659],\n",
              "       [-0.8903031 ,  0.45474009],\n",
              "       [ 0.14877744,  0.30622322],\n",
              "       [-1.64599803,  0.15770635],\n",
              "       [-1.36261243,  0.39533334],\n",
              "       [-0.98476496,  0.45474009],\n",
              "       [-0.70137936, -1.5947927 ],\n",
              "       [-0.13460816,  0.18740972],\n",
              "       [-0.51245563,  0.51414683],\n",
              "       [ 1.66016731, -0.88191173],\n",
              "       [ 0.05431557, -0.22843751],\n",
              "       [-0.32353189, -0.76309823],\n",
              "       [-0.32353189, -0.76309823],\n",
              "       [ 0.33770117,  0.30622322],\n",
              "       [ 1.09339611, -0.10962401],\n",
              "       [ 0.33770117, -0.70369149],\n",
              "       [ 0.90447238,  1.13791768],\n",
              "       [-1.64599803,  0.51414683],\n",
              "       [-0.98476496, -1.53538595],\n",
              "       [-0.22907003, -0.64428474],\n",
              "       [ 2.13247665, -0.79280161],\n",
              "       [-1.1736887 , -1.06013197],\n",
              "       [-0.04014629,  0.27651984],\n",
              "       [ 0.81001051, -0.28784426],\n",
              "       [ 1.09339611,  0.57355358],\n",
              "       [-0.22907003,  0.0982996 ],\n",
              "       [-0.79584123, -0.64428474],\n",
              "       [-0.04014629,  0.30622322],\n",
              "       [-0.13460816, -0.55517462],\n",
              "       [ 0.05431557, -0.52547124],\n",
              "       [ 0.99893424,  1.93990877],\n",
              "       [-0.98476496,  2.02901889],\n",
              "       [-0.04014629, -0.49576787],\n",
              "       [ 0.81001051, -1.35716571],\n",
              "       [-0.13460816,  0.90029069],\n",
              "       [ 2.03801478,  0.57355358],\n",
              "       [-1.26815056, -0.31754763],\n",
              "       [-0.04014629,  0.18740972],\n",
              "       [-1.07922683,  1.46465479],\n",
              "       [ 1.09339611,  2.14783238],\n",
              "       [-0.70137936,  0.54385021],\n",
              "       [ 0.90447238, -0.76309823],\n",
              "       [ 1.84909105, -0.25814088],\n",
              "       [ 0.24323931,  0.18740972],\n",
              "       [-1.83492177,  0.39533334],\n",
              "       [-0.22907003,  0.6626637 ],\n",
              "       [-0.22907003, -0.55517462],\n",
              "       [ 0.43216304,  2.38545937],\n",
              "       [ 1.37678171, -0.9116151 ],\n",
              "       [ 0.71554864, -1.08983534],\n",
              "       [ 1.94355291, -0.64428474],\n",
              "       [ 0.14877744, -0.28784426],\n",
              "       [-0.8903031 , -0.28784426],\n",
              "       [ 0.99893424, -0.82250498],\n",
              "       [ 0.99893424,  0.63296033],\n",
              "       [-1.1736887 ,  0.54385021],\n",
              "       [ 0.81001051,  1.43495142],\n",
              "       [-0.13460816, -0.43636112],\n",
              "       [ 0.43216304,  0.33592659],\n",
              "       [-0.22907003,  0.18740972],\n",
              "       [-0.6069175 ,  0.2171131 ],\n",
              "       [ 0.90447238, -1.0304286 ],\n",
              "       [-0.04014629,  2.29634925],\n",
              "       [-0.22907003, -0.10962401],\n",
              "       [-1.7404599 , -1.29775896],\n",
              "       [-1.7404599 , -1.41657245],\n",
              "       [ 0.05431557,  1.28643455],\n",
              "       [-1.7404599 ,  0.2171131 ],\n",
              "       [-0.79584123,  2.355756  ],\n",
              "       [ 0.33770117, -0.28784426],\n",
              "       [ 0.05431557, -0.55517462],\n",
              "       [-1.83492177,  0.51414683],\n",
              "       [ 1.09339611,  0.51414683],\n",
              "       [-1.07922683,  0.36562996],\n",
              "       [ 0.05431557, -0.55517462],\n",
              "       [ 1.47124358,  1.04880756],\n",
              "       [ 0.81001051, -1.20864884],\n",
              "       [-1.26815056,  0.45474009],\n",
              "       [ 0.33770117, -0.16903076],\n",
              "       [ 2.03801478, -0.79280161],\n",
              "       [-1.07922683, -1.53538595],\n",
              "       [-0.6069175 , -1.0304286 ],\n",
              "       [ 0.14877744, -0.79280161],\n",
              "       [-0.6069175 ,  1.46465479],\n",
              "       [ 0.43216304, -0.4660645 ],\n",
              "       [ 1.75462918, -0.25814088],\n",
              "       [ 0.71554864, -0.70369149],\n",
              "       [-0.70137936,  0.60325695],\n",
              "       [ 0.05431557, -0.22843751],\n",
              "       [-0.98476496, -1.44627583],\n",
              "       [-1.07922683,  0.0982996 ],\n",
              "       [-0.13460816, -1.06013197],\n",
              "       [ 1.47124358,  0.0982996 ],\n",
              "       [ 0.24323931, -0.10962401],\n",
              "       [-0.51245563,  1.43495142],\n",
              "       [-0.98476496,  0.57355358],\n",
              "       [ 0.43216304,  0.12800298],\n",
              "       [ 0.81001051,  0.81118057],\n",
              "       [-1.4570743 , -0.40665775],\n",
              "       [-1.7404599 , -1.26805559],\n",
              "       [-0.70137936, -1.53538595],\n",
              "       [ 0.43216304, -0.43636112],\n",
              "       [ 1.37678171, -1.41657245],\n",
              "       [-1.7404599 ,  0.48444346],\n",
              "       [ 0.99893424,  2.14783238],\n",
              "       [ 1.94355291,  0.95969744],\n",
              "       [-0.22907003,  0.12800298],\n",
              "       [ 0.90447238, -0.55517462],\n",
              "       [-0.04014629, -0.40665775],\n",
              "       [ 2.03801478,  2.20723913],\n",
              "       [ 2.03801478,  1.82109527],\n",
              "       [ 0.81001051,  0.15770635],\n",
              "       [ 1.84909105, -1.06013197],\n",
              "       [-0.79584123,  0.42503671],\n",
              "       [ 0.90447238, -0.58487799],\n",
              "       [-1.64599803, -0.97102185],\n",
              "       [ 0.24323931, -0.22843751],\n",
              "       [ 0.99893424, -1.06013197],\n",
              "       [ 1.94355291,  0.7814772 ],\n",
              "       [ 0.14877744,  0.12800298],\n",
              "       [-0.04014629,  0.03889285],\n",
              "       [ 0.14877744,  1.93990877],\n",
              "       [ 1.47124358, -1.0304286 ],\n",
              "       [ 1.37678171,  2.05872226],\n",
              "       [ 0.14877744,  0.81118057],\n",
              "       [-0.8903031 ,  0.30622322],\n",
              "       [ 0.71554864,  0.30622322],\n",
              "       [-0.51245563,  1.96961214],\n",
              "       [-0.13460816,  2.2369425 ],\n",
              "       [ 0.43216304,  1.16762105],\n",
              "       [ 0.99893424, -1.17894546],\n",
              "       [-1.1736887 , -1.38686908],\n",
              "       [-0.22907003, -0.55517462],\n",
              "       [-0.51245563, -1.50568257],\n",
              "       [ 0.90447238, -1.29775896],\n",
              "       [-0.6069175 ,  0.60325695],\n",
              "       [-1.4570743 , -1.23835221],\n",
              "       [ 0.24323931, -0.347251  ],\n",
              "       [ 0.99893424, -1.14924209],\n",
              "       [-1.07922683,  0.45474009],\n",
              "       [-0.22907003,  0.24681647],\n",
              "       [-0.70137936, -0.58487799],\n",
              "       [ 1.75462918,  1.91020539],\n",
              "       [-0.04014629, -0.347251  ],\n",
              "       [ 0.24323931,  0.27651984],\n",
              "       [ 1.37678171,  2.41516275],\n",
              "       [ 0.05431557,  0.06859623],\n",
              "       [ 1.84909105,  1.58346828],\n",
              "       [ 0.14877744, -0.22843751],\n",
              "       [ 1.09339611, -1.20864884],\n",
              "       [ 0.24323931, -0.25814088],\n",
              "       [-0.22907003, -0.31754763],\n",
              "       [ 0.33770117,  0.0982996 ],\n",
              "       [ 1.56570545,  1.16762105],\n",
              "       [-0.41799376, -1.11953872],\n",
              "       [-1.4570743 , -1.50568257],\n",
              "       [-0.98476496, -1.11953872],\n",
              "       [ 0.71554864, -1.26805559],\n",
              "       [-0.41799376, -0.76309823],\n",
              "       [-0.04014629,  0.24681647],\n",
              "       [ 0.24323931, -0.347251  ],\n",
              "       [-1.36261243, -0.61458137],\n",
              "       [ 1.47124358,  2.20723913],\n",
              "       [ 0.14877744,  1.93990877],\n",
              "       [-0.6069175 , -0.07992064],\n",
              "       [ 2.03801478,  0.42503671],\n",
              "       [ 1.56570545,  1.04880756],\n",
              "       [-0.70137936,  0.30622322],\n",
              "       [ 0.33770117,  0.54385021],\n",
              "       [-0.22907003, -0.25814088],\n",
              "       [-1.83492177, -0.49576787],\n",
              "       [-1.7404599 , -1.4759792 ],\n",
              "       [-0.32353189, -1.29775896],\n",
              "       [-1.07922683, -1.56508932],\n",
              "       [-0.8903031 ,  0.48444346],\n",
              "       [-0.41799376, -0.25814088],\n",
              "       [ 1.94355291, -1.35716571],\n",
              "       [-1.07922683, -1.08983534],\n",
              "       [ 1.28231984, -1.35716571],\n",
              "       [-0.98476496,  0.63296033],\n",
              "       [-0.04014629, -1.06013197],\n",
              "       [ 2.13247665, -0.67398811],\n",
              "       [ 0.24323931, -0.28784426],\n",
              "       [-0.22907003, -0.9116151 ],\n",
              "       [-0.22907003,  2.32605263],\n",
              "       [-0.22907003, -1.35716571],\n",
              "       [-0.22907003, -0.22843751],\n",
              "       [-0.79584123, -0.22843751],\n",
              "       [-1.7404599 ,  0.03889285],\n",
              "       [-0.70137936,  1.13791768],\n",
              "       [ 0.81001051, -0.82250498],\n",
              "       [-0.32353189,  1.37554467],\n",
              "       [-0.6069175 , -1.50568257],\n",
              "       [ 0.43216304, -0.43636112],\n",
              "       [-0.22907003, -1.38686908],\n",
              "       [-1.07922683, -1.5947927 ],\n",
              "       [ 0.14877744,  0.06859623],\n",
              "       [-0.6069175 , -0.02051389],\n",
              "       [ 2.03801478,  0.2171131 ],\n",
              "       [ 2.13247665, -1.0304286 ],\n",
              "       [-0.6069175 ,  0.15770635],\n",
              "       [-0.04014629,  0.33592659],\n",
              "       [-1.07922683, -1.5947927 ],\n",
              "       [-0.6069175 , -1.5947927 ],\n",
              "       [ 0.33770117, -0.25814088],\n",
              "       [ 0.33770117,  0.33592659],\n",
              "       [ 1.37678171,  0.63296033],\n",
              "       [-1.07922683, -1.14924209],\n",
              "       [ 0.24323931, -0.347251  ],\n",
              "       [ 0.99893424,  1.49435816],\n",
              "       [ 0.81001051,  0.57355358]])"
            ]
          },
          "metadata": {},
          "execution_count": 14
        }
      ]
    },
    {
      "cell_type": "code",
      "source": [
        "X_test=scaler.transform(X_test)\n",
        "X_test"
      ],
      "metadata": {
        "colab": {
          "base_uri": "https://localhost:8080/"
        },
        "id": "LB41g_eN1ZJ8",
        "outputId": "9da5231c-953c-4987-8471-93737119c6ed"
      },
      "execution_count": 15,
      "outputs": [
        {
          "output_type": "execute_result",
          "data": {
            "text/plain": [
              "array([[ 2.13247665,  0.42503671],\n",
              "       [-0.41799376,  1.31613792],\n",
              "       [-0.70137936,  1.40524804],\n",
              "       [-0.04014629,  0.0982996 ],\n",
              "       [ 0.43216304, -0.13932739],\n",
              "       [-0.98476496, -0.43636112],\n",
              "       [-1.36261243, -1.44627583],\n",
              "       [-0.51245563,  1.43495142],\n",
              "       [ 1.56570545, -1.26805559],\n",
              "       [ 0.24323931,  1.13791768],\n",
              "       [-0.22907003,  0.84088394],\n",
              "       [ 0.24323931,  0.0982996 ],\n",
              "       [-1.26815056, -1.23835221],\n",
              "       [-0.04014629, -0.19873413],\n",
              "       [-0.22907003, -0.40665775],\n",
              "       [ 0.90447238,  1.31613792],\n",
              "       [-1.1736887 ,  0.30622322],\n",
              "       [-0.8903031 ,  0.54385021],\n",
              "       [ 1.09339611,  0.60325695],\n",
              "       [ 2.13247665,  1.16762105],\n",
              "       [ 1.75462918,  1.04880756],\n",
              "       [-0.41799376, -0.52547124],\n",
              "       [-0.13460816,  1.67257841],\n",
              "       [-1.26815056, -1.08983534],\n",
              "       [ 0.52662491,  1.7913919 ],\n",
              "       [ 0.90447238, -1.14924209],\n",
              "       [-1.26815056, -0.40665775],\n",
              "       [-0.8903031 , -0.40665775],\n",
              "       [ 0.43216304,  0.63296033],\n",
              "       [ 1.18785798,  0.57355358],\n",
              "       [ 0.99893424, -1.06013197],\n",
              "       [-1.64599803, -0.58487799],\n",
              "       [ 2.13247665, -0.79280161],\n",
              "       [-0.70137936,  0.33592659],\n",
              "       [-1.26815056, -1.35716571],\n",
              "       [-0.22907003, -0.73339486],\n",
              "       [ 0.33770117, -0.49576787],\n",
              "       [ 0.62108678,  2.08842564],\n",
              "       [-0.13460816, -0.16903076],\n",
              "       [ 1.28231984,  1.93990877],\n",
              "       [ 1.09339611,  0.15770635],\n",
              "       [-0.22907003, -1.23835221],\n",
              "       [ 0.90447238, -1.35716571],\n",
              "       [-1.36261243, -0.07992064],\n",
              "       [-0.32353189,  0.0982996 ],\n",
              "       [ 0.71554864,  1.85079865],\n",
              "       [ 1.84909105,  0.15770635],\n",
              "       [-1.36261243, -0.16903076],\n",
              "       [ 0.99893424,  2.05872226],\n",
              "       [-0.8903031 ,  0.60325695],\n",
              "       [ 0.99893424,  1.85079865],\n",
              "       [ 0.90447238,  1.07851093],\n",
              "       [-0.98476496, -0.31754763],\n",
              "       [ 0.05431557, -0.28784426],\n",
              "       [ 0.24323931,  2.17753576],\n",
              "       [ 0.43216304, -0.10962401],\n",
              "       [-1.07922683, -1.00072522],\n",
              "       [-0.04014629,  2.02901889],\n",
              "       [-0.22907003, -0.4660645 ],\n",
              "       [ 1.28231984,  2.29634925],\n",
              "       [ 0.43216304, -0.10962401],\n",
              "       [ 1.18785798, -1.44627583],\n",
              "       [-1.07922683, -0.76309823],\n",
              "       [ 0.99893424, -1.00072522],\n",
              "       [ 0.43216304,  0.03889285],\n",
              "       [ 0.33770117,  0.0982996 ],\n",
              "       [ 0.43216304,  0.33592659],\n",
              "       [ 0.99893424,  0.15770635],\n",
              "       [ 0.81001051, -1.38686908],\n",
              "       [ 0.14877744, -0.79280161],\n",
              "       [ 0.14877744,  1.58346828],\n",
              "       [ 0.14877744,  0.18740972],\n",
              "       [-1.07922683, -0.49576787],\n",
              "       [ 0.33770117, -1.14924209],\n",
              "       [ 0.33770117, -0.49576787],\n",
              "       [ 0.05431557, -0.10962401],\n",
              "       [-0.04014629,  2.2369425 ],\n",
              "       [-0.22907003,  0.30622322],\n",
              "       [-0.22907003, -0.88191173],\n",
              "       [-1.55153617, -0.02051389]])"
            ]
          },
          "metadata": {},
          "execution_count": 15
        }
      ]
    },
    {
      "cell_type": "code",
      "source": [
        "# 1st method\n",
        "np.sqrt(X_train.shape[0])"
      ],
      "metadata": {
        "colab": {
          "base_uri": "https://localhost:8080/"
        },
        "id": "7m5GAaIk1ZM7",
        "outputId": "9068e7dc-b8e3-44e6-db5c-5b67ae4691fb"
      },
      "execution_count": 16,
      "outputs": [
        {
          "output_type": "execute_result",
          "data": {
            "text/plain": [
              "17.88854381999832"
            ]
          },
          "metadata": {},
          "execution_count": 16
        }
      ]
    },
    {
      "cell_type": "code",
      "source": [
        "k=17"
      ],
      "metadata": {
        "id": "rwJ-DrHu1ZQL"
      },
      "execution_count": 17,
      "outputs": []
    },
    {
      "cell_type": "code",
      "source": [
        "from sklearn.neighbors import KNeighborsClassifier\n",
        "knn=KNeighborsClassifier(n_neighbors=k)"
      ],
      "metadata": {
        "id": "5zVFi2RO05TA"
      },
      "execution_count": 19,
      "outputs": []
    },
    {
      "cell_type": "code",
      "source": [
        "knn.fit(X_train,y_train)"
      ],
      "metadata": {
        "colab": {
          "base_uri": "https://localhost:8080/",
          "height": 80
        },
        "id": "3-0Sj8ms1-Lo",
        "outputId": "de3276af-5877-4f1d-8e73-a84cbb034863"
      },
      "execution_count": 20,
      "outputs": [
        {
          "output_type": "execute_result",
          "data": {
            "text/plain": [
              "KNeighborsClassifier(n_neighbors=17)"
            ],
            "text/html": [
              "<style>#sk-container-id-1 {\n",
              "  /* Definition of color scheme common for light and dark mode */\n",
              "  --sklearn-color-text: black;\n",
              "  --sklearn-color-line: gray;\n",
              "  /* Definition of color scheme for unfitted estimators */\n",
              "  --sklearn-color-unfitted-level-0: #fff5e6;\n",
              "  --sklearn-color-unfitted-level-1: #f6e4d2;\n",
              "  --sklearn-color-unfitted-level-2: #ffe0b3;\n",
              "  --sklearn-color-unfitted-level-3: chocolate;\n",
              "  /* Definition of color scheme for fitted estimators */\n",
              "  --sklearn-color-fitted-level-0: #f0f8ff;\n",
              "  --sklearn-color-fitted-level-1: #d4ebff;\n",
              "  --sklearn-color-fitted-level-2: #b3dbfd;\n",
              "  --sklearn-color-fitted-level-3: cornflowerblue;\n",
              "\n",
              "  /* Specific color for light theme */\n",
              "  --sklearn-color-text-on-default-background: var(--sg-text-color, var(--theme-code-foreground, var(--jp-content-font-color1, black)));\n",
              "  --sklearn-color-background: var(--sg-background-color, var(--theme-background, var(--jp-layout-color0, white)));\n",
              "  --sklearn-color-border-box: var(--sg-text-color, var(--theme-code-foreground, var(--jp-content-font-color1, black)));\n",
              "  --sklearn-color-icon: #696969;\n",
              "\n",
              "  @media (prefers-color-scheme: dark) {\n",
              "    /* Redefinition of color scheme for dark theme */\n",
              "    --sklearn-color-text-on-default-background: var(--sg-text-color, var(--theme-code-foreground, var(--jp-content-font-color1, white)));\n",
              "    --sklearn-color-background: var(--sg-background-color, var(--theme-background, var(--jp-layout-color0, #111)));\n",
              "    --sklearn-color-border-box: var(--sg-text-color, var(--theme-code-foreground, var(--jp-content-font-color1, white)));\n",
              "    --sklearn-color-icon: #878787;\n",
              "  }\n",
              "}\n",
              "\n",
              "#sk-container-id-1 {\n",
              "  color: var(--sklearn-color-text);\n",
              "}\n",
              "\n",
              "#sk-container-id-1 pre {\n",
              "  padding: 0;\n",
              "}\n",
              "\n",
              "#sk-container-id-1 input.sk-hidden--visually {\n",
              "  border: 0;\n",
              "  clip: rect(1px 1px 1px 1px);\n",
              "  clip: rect(1px, 1px, 1px, 1px);\n",
              "  height: 1px;\n",
              "  margin: -1px;\n",
              "  overflow: hidden;\n",
              "  padding: 0;\n",
              "  position: absolute;\n",
              "  width: 1px;\n",
              "}\n",
              "\n",
              "#sk-container-id-1 div.sk-dashed-wrapped {\n",
              "  border: 1px dashed var(--sklearn-color-line);\n",
              "  margin: 0 0.4em 0.5em 0.4em;\n",
              "  box-sizing: border-box;\n",
              "  padding-bottom: 0.4em;\n",
              "  background-color: var(--sklearn-color-background);\n",
              "}\n",
              "\n",
              "#sk-container-id-1 div.sk-container {\n",
              "  /* jupyter's `normalize.less` sets `[hidden] { display: none; }`\n",
              "     but bootstrap.min.css set `[hidden] { display: none !important; }`\n",
              "     so we also need the `!important` here to be able to override the\n",
              "     default hidden behavior on the sphinx rendered scikit-learn.org.\n",
              "     See: https://github.com/scikit-learn/scikit-learn/issues/21755 */\n",
              "  display: inline-block !important;\n",
              "  position: relative;\n",
              "}\n",
              "\n",
              "#sk-container-id-1 div.sk-text-repr-fallback {\n",
              "  display: none;\n",
              "}\n",
              "\n",
              "div.sk-parallel-item,\n",
              "div.sk-serial,\n",
              "div.sk-item {\n",
              "  /* draw centered vertical line to link estimators */\n",
              "  background-image: linear-gradient(var(--sklearn-color-text-on-default-background), var(--sklearn-color-text-on-default-background));\n",
              "  background-size: 2px 100%;\n",
              "  background-repeat: no-repeat;\n",
              "  background-position: center center;\n",
              "}\n",
              "\n",
              "/* Parallel-specific style estimator block */\n",
              "\n",
              "#sk-container-id-1 div.sk-parallel-item::after {\n",
              "  content: \"\";\n",
              "  width: 100%;\n",
              "  border-bottom: 2px solid var(--sklearn-color-text-on-default-background);\n",
              "  flex-grow: 1;\n",
              "}\n",
              "\n",
              "#sk-container-id-1 div.sk-parallel {\n",
              "  display: flex;\n",
              "  align-items: stretch;\n",
              "  justify-content: center;\n",
              "  background-color: var(--sklearn-color-background);\n",
              "  position: relative;\n",
              "}\n",
              "\n",
              "#sk-container-id-1 div.sk-parallel-item {\n",
              "  display: flex;\n",
              "  flex-direction: column;\n",
              "}\n",
              "\n",
              "#sk-container-id-1 div.sk-parallel-item:first-child::after {\n",
              "  align-self: flex-end;\n",
              "  width: 50%;\n",
              "}\n",
              "\n",
              "#sk-container-id-1 div.sk-parallel-item:last-child::after {\n",
              "  align-self: flex-start;\n",
              "  width: 50%;\n",
              "}\n",
              "\n",
              "#sk-container-id-1 div.sk-parallel-item:only-child::after {\n",
              "  width: 0;\n",
              "}\n",
              "\n",
              "/* Serial-specific style estimator block */\n",
              "\n",
              "#sk-container-id-1 div.sk-serial {\n",
              "  display: flex;\n",
              "  flex-direction: column;\n",
              "  align-items: center;\n",
              "  background-color: var(--sklearn-color-background);\n",
              "  padding-right: 1em;\n",
              "  padding-left: 1em;\n",
              "}\n",
              "\n",
              "\n",
              "/* Toggleable style: style used for estimator/Pipeline/ColumnTransformer box that is\n",
              "clickable and can be expanded/collapsed.\n",
              "- Pipeline and ColumnTransformer use this feature and define the default style\n",
              "- Estimators will overwrite some part of the style using the `sk-estimator` class\n",
              "*/\n",
              "\n",
              "/* Pipeline and ColumnTransformer style (default) */\n",
              "\n",
              "#sk-container-id-1 div.sk-toggleable {\n",
              "  /* Default theme specific background. It is overwritten whether we have a\n",
              "  specific estimator or a Pipeline/ColumnTransformer */\n",
              "  background-color: var(--sklearn-color-background);\n",
              "}\n",
              "\n",
              "/* Toggleable label */\n",
              "#sk-container-id-1 label.sk-toggleable__label {\n",
              "  cursor: pointer;\n",
              "  display: block;\n",
              "  width: 100%;\n",
              "  margin-bottom: 0;\n",
              "  padding: 0.5em;\n",
              "  box-sizing: border-box;\n",
              "  text-align: center;\n",
              "}\n",
              "\n",
              "#sk-container-id-1 label.sk-toggleable__label-arrow:before {\n",
              "  /* Arrow on the left of the label */\n",
              "  content: \"▸\";\n",
              "  float: left;\n",
              "  margin-right: 0.25em;\n",
              "  color: var(--sklearn-color-icon);\n",
              "}\n",
              "\n",
              "#sk-container-id-1 label.sk-toggleable__label-arrow:hover:before {\n",
              "  color: var(--sklearn-color-text);\n",
              "}\n",
              "\n",
              "/* Toggleable content - dropdown */\n",
              "\n",
              "#sk-container-id-1 div.sk-toggleable__content {\n",
              "  max-height: 0;\n",
              "  max-width: 0;\n",
              "  overflow: hidden;\n",
              "  text-align: left;\n",
              "  /* unfitted */\n",
              "  background-color: var(--sklearn-color-unfitted-level-0);\n",
              "}\n",
              "\n",
              "#sk-container-id-1 div.sk-toggleable__content.fitted {\n",
              "  /* fitted */\n",
              "  background-color: var(--sklearn-color-fitted-level-0);\n",
              "}\n",
              "\n",
              "#sk-container-id-1 div.sk-toggleable__content pre {\n",
              "  margin: 0.2em;\n",
              "  border-radius: 0.25em;\n",
              "  color: var(--sklearn-color-text);\n",
              "  /* unfitted */\n",
              "  background-color: var(--sklearn-color-unfitted-level-0);\n",
              "}\n",
              "\n",
              "#sk-container-id-1 div.sk-toggleable__content.fitted pre {\n",
              "  /* unfitted */\n",
              "  background-color: var(--sklearn-color-fitted-level-0);\n",
              "}\n",
              "\n",
              "#sk-container-id-1 input.sk-toggleable__control:checked~div.sk-toggleable__content {\n",
              "  /* Expand drop-down */\n",
              "  max-height: 200px;\n",
              "  max-width: 100%;\n",
              "  overflow: auto;\n",
              "}\n",
              "\n",
              "#sk-container-id-1 input.sk-toggleable__control:checked~label.sk-toggleable__label-arrow:before {\n",
              "  content: \"▾\";\n",
              "}\n",
              "\n",
              "/* Pipeline/ColumnTransformer-specific style */\n",
              "\n",
              "#sk-container-id-1 div.sk-label input.sk-toggleable__control:checked~label.sk-toggleable__label {\n",
              "  color: var(--sklearn-color-text);\n",
              "  background-color: var(--sklearn-color-unfitted-level-2);\n",
              "}\n",
              "\n",
              "#sk-container-id-1 div.sk-label.fitted input.sk-toggleable__control:checked~label.sk-toggleable__label {\n",
              "  background-color: var(--sklearn-color-fitted-level-2);\n",
              "}\n",
              "\n",
              "/* Estimator-specific style */\n",
              "\n",
              "/* Colorize estimator box */\n",
              "#sk-container-id-1 div.sk-estimator input.sk-toggleable__control:checked~label.sk-toggleable__label {\n",
              "  /* unfitted */\n",
              "  background-color: var(--sklearn-color-unfitted-level-2);\n",
              "}\n",
              "\n",
              "#sk-container-id-1 div.sk-estimator.fitted input.sk-toggleable__control:checked~label.sk-toggleable__label {\n",
              "  /* fitted */\n",
              "  background-color: var(--sklearn-color-fitted-level-2);\n",
              "}\n",
              "\n",
              "#sk-container-id-1 div.sk-label label.sk-toggleable__label,\n",
              "#sk-container-id-1 div.sk-label label {\n",
              "  /* The background is the default theme color */\n",
              "  color: var(--sklearn-color-text-on-default-background);\n",
              "}\n",
              "\n",
              "/* On hover, darken the color of the background */\n",
              "#sk-container-id-1 div.sk-label:hover label.sk-toggleable__label {\n",
              "  color: var(--sklearn-color-text);\n",
              "  background-color: var(--sklearn-color-unfitted-level-2);\n",
              "}\n",
              "\n",
              "/* Label box, darken color on hover, fitted */\n",
              "#sk-container-id-1 div.sk-label.fitted:hover label.sk-toggleable__label.fitted {\n",
              "  color: var(--sklearn-color-text);\n",
              "  background-color: var(--sklearn-color-fitted-level-2);\n",
              "}\n",
              "\n",
              "/* Estimator label */\n",
              "\n",
              "#sk-container-id-1 div.sk-label label {\n",
              "  font-family: monospace;\n",
              "  font-weight: bold;\n",
              "  display: inline-block;\n",
              "  line-height: 1.2em;\n",
              "}\n",
              "\n",
              "#sk-container-id-1 div.sk-label-container {\n",
              "  text-align: center;\n",
              "}\n",
              "\n",
              "/* Estimator-specific */\n",
              "#sk-container-id-1 div.sk-estimator {\n",
              "  font-family: monospace;\n",
              "  border: 1px dotted var(--sklearn-color-border-box);\n",
              "  border-radius: 0.25em;\n",
              "  box-sizing: border-box;\n",
              "  margin-bottom: 0.5em;\n",
              "  /* unfitted */\n",
              "  background-color: var(--sklearn-color-unfitted-level-0);\n",
              "}\n",
              "\n",
              "#sk-container-id-1 div.sk-estimator.fitted {\n",
              "  /* fitted */\n",
              "  background-color: var(--sklearn-color-fitted-level-0);\n",
              "}\n",
              "\n",
              "/* on hover */\n",
              "#sk-container-id-1 div.sk-estimator:hover {\n",
              "  /* unfitted */\n",
              "  background-color: var(--sklearn-color-unfitted-level-2);\n",
              "}\n",
              "\n",
              "#sk-container-id-1 div.sk-estimator.fitted:hover {\n",
              "  /* fitted */\n",
              "  background-color: var(--sklearn-color-fitted-level-2);\n",
              "}\n",
              "\n",
              "/* Specification for estimator info (e.g. \"i\" and \"?\") */\n",
              "\n",
              "/* Common style for \"i\" and \"?\" */\n",
              "\n",
              ".sk-estimator-doc-link,\n",
              "a:link.sk-estimator-doc-link,\n",
              "a:visited.sk-estimator-doc-link {\n",
              "  float: right;\n",
              "  font-size: smaller;\n",
              "  line-height: 1em;\n",
              "  font-family: monospace;\n",
              "  background-color: var(--sklearn-color-background);\n",
              "  border-radius: 1em;\n",
              "  height: 1em;\n",
              "  width: 1em;\n",
              "  text-decoration: none !important;\n",
              "  margin-left: 1ex;\n",
              "  /* unfitted */\n",
              "  border: var(--sklearn-color-unfitted-level-1) 1pt solid;\n",
              "  color: var(--sklearn-color-unfitted-level-1);\n",
              "}\n",
              "\n",
              ".sk-estimator-doc-link.fitted,\n",
              "a:link.sk-estimator-doc-link.fitted,\n",
              "a:visited.sk-estimator-doc-link.fitted {\n",
              "  /* fitted */\n",
              "  border: var(--sklearn-color-fitted-level-1) 1pt solid;\n",
              "  color: var(--sklearn-color-fitted-level-1);\n",
              "}\n",
              "\n",
              "/* On hover */\n",
              "div.sk-estimator:hover .sk-estimator-doc-link:hover,\n",
              ".sk-estimator-doc-link:hover,\n",
              "div.sk-label-container:hover .sk-estimator-doc-link:hover,\n",
              ".sk-estimator-doc-link:hover {\n",
              "  /* unfitted */\n",
              "  background-color: var(--sklearn-color-unfitted-level-3);\n",
              "  color: var(--sklearn-color-background);\n",
              "  text-decoration: none;\n",
              "}\n",
              "\n",
              "div.sk-estimator.fitted:hover .sk-estimator-doc-link.fitted:hover,\n",
              ".sk-estimator-doc-link.fitted:hover,\n",
              "div.sk-label-container:hover .sk-estimator-doc-link.fitted:hover,\n",
              ".sk-estimator-doc-link.fitted:hover {\n",
              "  /* fitted */\n",
              "  background-color: var(--sklearn-color-fitted-level-3);\n",
              "  color: var(--sklearn-color-background);\n",
              "  text-decoration: none;\n",
              "}\n",
              "\n",
              "/* Span, style for the box shown on hovering the info icon */\n",
              ".sk-estimator-doc-link span {\n",
              "  display: none;\n",
              "  z-index: 9999;\n",
              "  position: relative;\n",
              "  font-weight: normal;\n",
              "  right: .2ex;\n",
              "  padding: .5ex;\n",
              "  margin: .5ex;\n",
              "  width: min-content;\n",
              "  min-width: 20ex;\n",
              "  max-width: 50ex;\n",
              "  color: var(--sklearn-color-text);\n",
              "  box-shadow: 2pt 2pt 4pt #999;\n",
              "  /* unfitted */\n",
              "  background: var(--sklearn-color-unfitted-level-0);\n",
              "  border: .5pt solid var(--sklearn-color-unfitted-level-3);\n",
              "}\n",
              "\n",
              ".sk-estimator-doc-link.fitted span {\n",
              "  /* fitted */\n",
              "  background: var(--sklearn-color-fitted-level-0);\n",
              "  border: var(--sklearn-color-fitted-level-3);\n",
              "}\n",
              "\n",
              ".sk-estimator-doc-link:hover span {\n",
              "  display: block;\n",
              "}\n",
              "\n",
              "/* \"?\"-specific style due to the `<a>` HTML tag */\n",
              "\n",
              "#sk-container-id-1 a.estimator_doc_link {\n",
              "  float: right;\n",
              "  font-size: 1rem;\n",
              "  line-height: 1em;\n",
              "  font-family: monospace;\n",
              "  background-color: var(--sklearn-color-background);\n",
              "  border-radius: 1rem;\n",
              "  height: 1rem;\n",
              "  width: 1rem;\n",
              "  text-decoration: none;\n",
              "  /* unfitted */\n",
              "  color: var(--sklearn-color-unfitted-level-1);\n",
              "  border: var(--sklearn-color-unfitted-level-1) 1pt solid;\n",
              "}\n",
              "\n",
              "#sk-container-id-1 a.estimator_doc_link.fitted {\n",
              "  /* fitted */\n",
              "  border: var(--sklearn-color-fitted-level-1) 1pt solid;\n",
              "  color: var(--sklearn-color-fitted-level-1);\n",
              "}\n",
              "\n",
              "/* On hover */\n",
              "#sk-container-id-1 a.estimator_doc_link:hover {\n",
              "  /* unfitted */\n",
              "  background-color: var(--sklearn-color-unfitted-level-3);\n",
              "  color: var(--sklearn-color-background);\n",
              "  text-decoration: none;\n",
              "}\n",
              "\n",
              "#sk-container-id-1 a.estimator_doc_link.fitted:hover {\n",
              "  /* fitted */\n",
              "  background-color: var(--sklearn-color-fitted-level-3);\n",
              "}\n",
              "</style><div id=\"sk-container-id-1\" class=\"sk-top-container\"><div class=\"sk-text-repr-fallback\"><pre>KNeighborsClassifier(n_neighbors=17)</pre><b>In a Jupyter environment, please rerun this cell to show the HTML representation or trust the notebook. <br />On GitHub, the HTML representation is unable to render, please try loading this page with nbviewer.org.</b></div><div class=\"sk-container\" hidden><div class=\"sk-item\"><div class=\"sk-estimator fitted sk-toggleable\"><input class=\"sk-toggleable__control sk-hidden--visually\" id=\"sk-estimator-id-1\" type=\"checkbox\" checked><label for=\"sk-estimator-id-1\" class=\"sk-toggleable__label fitted sk-toggleable__label-arrow fitted\">&nbsp;&nbsp;KNeighborsClassifier<a class=\"sk-estimator-doc-link fitted\" rel=\"noreferrer\" target=\"_blank\" href=\"https://scikit-learn.org/1.5/modules/generated/sklearn.neighbors.KNeighborsClassifier.html\">?<span>Documentation for KNeighborsClassifier</span></a><span class=\"sk-estimator-doc-link fitted\">i<span>Fitted</span></span></label><div class=\"sk-toggleable__content fitted\"><pre>KNeighborsClassifier(n_neighbors=17)</pre></div> </div></div></div></div>"
            ]
          },
          "metadata": {},
          "execution_count": 20
        }
      ]
    },
    {
      "cell_type": "code",
      "source": [
        "y_pred=knn.predict(X_test)"
      ],
      "metadata": {
        "id": "bAPD_vWK1-Om"
      },
      "execution_count": 21,
      "outputs": []
    },
    {
      "cell_type": "code",
      "source": [
        "y_pred.shape"
      ],
      "metadata": {
        "colab": {
          "base_uri": "https://localhost:8080/"
        },
        "id": "v3k-7cpz1-TW",
        "outputId": "0f016594-16e8-41b7-d23d-66bf430d47a5"
      },
      "execution_count": 22,
      "outputs": [
        {
          "output_type": "execute_result",
          "data": {
            "text/plain": [
              "(80,)"
            ]
          },
          "metadata": {},
          "execution_count": 22
        }
      ]
    },
    {
      "cell_type": "code",
      "source": [
        "y_test.shape"
      ],
      "metadata": {
        "colab": {
          "base_uri": "https://localhost:8080/"
        },
        "id": "rw8mnhH61-Wx",
        "outputId": "371235e0-4d5e-4352-ecd2-d9ccfdb911df"
      },
      "execution_count": 23,
      "outputs": [
        {
          "output_type": "execute_result",
          "data": {
            "text/plain": [
              "(80,)"
            ]
          },
          "metadata": {},
          "execution_count": 23
        }
      ]
    },
    {
      "cell_type": "code",
      "source": [
        "from sklearn.metrics import accuracy_score\n",
        "accuracy_score(y_test,y_pred)"
      ],
      "metadata": {
        "colab": {
          "base_uri": "https://localhost:8080/"
        },
        "id": "GujlzA-N1-Z5",
        "outputId": "9a9325be-109e-42e4-c1d9-8a05309838d8"
      },
      "execution_count": 24,
      "outputs": [
        {
          "output_type": "execute_result",
          "data": {
            "text/plain": [
              "0.8875"
            ]
          },
          "metadata": {},
          "execution_count": 24
        }
      ]
    },
    {
      "cell_type": "code",
      "source": [
        "from sklearn.metrics import confusion_matrix\n",
        "confusion_matrix(y_test,y_pred)"
      ],
      "metadata": {
        "colab": {
          "base_uri": "https://localhost:8080/"
        },
        "id": "L6aaP2sG2VF2",
        "outputId": "1dcb1905-948a-4771-dd02-0e4e918069b1"
      },
      "execution_count": 25,
      "outputs": [
        {
          "output_type": "execute_result",
          "data": {
            "text/plain": [
              "array([[42,  6],\n",
              "       [ 3, 29]])"
            ]
          },
          "metadata": {},
          "execution_count": 25
        }
      ]
    },
    {
      "cell_type": "code",
      "source": [
        "# Effect of K on Training Error rate and Validation Error rate\n",
        "\n",
        "error_train=[]\n",
        "error_test=[]\n",
        "\n",
        "for i in range(1,26):\n",
        "    knn=KNeighborsClassifier(n_neighbors=i)\n",
        "    knn.fit(X_train,y_train)\n",
        "    x=confusion_matrix(y_train,knn.predict(X_train))\n",
        "    y=confusion_matrix(y_test,knn.predict(X_test))\n",
        "    error_train.append((x[0][1]+x[1][0])/x.sum())\n",
        "    error_test.append((y[0][1]+y[1][0])/y.sum())"
      ],
      "metadata": {
        "id": "aMKhinH32VI4"
      },
      "execution_count": 26,
      "outputs": []
    },
    {
      "cell_type": "code",
      "source": [
        "plt.plot(range(1,26),error_train,label='training error rate')\n",
        "plt.plot(range(1,26),error_test,label='test/validation error rate')\n",
        "plt.xlabel('K Value')\n",
        "plt.ylabel('Error')\n",
        "plt.legend()"
      ],
      "metadata": {
        "colab": {
          "base_uri": "https://localhost:8080/",
          "height": 466
        },
        "id": "d-rFz3Kt2VOk",
        "outputId": "a4de8242-9b0d-434e-f820-9ba49d2cfd7a"
      },
      "execution_count": 27,
      "outputs": [
        {
          "output_type": "execute_result",
          "data": {
            "text/plain": [
              "<matplotlib.legend.Legend at 0x7c9db21d66b0>"
            ]
          },
          "metadata": {},
          "execution_count": 27
        },
        {
          "output_type": "display_data",
          "data": {
            "text/plain": [
              "<Figure size 640x480 with 1 Axes>"
            ],
            "image/png": "[encoded data removed]"
          },
          "metadata": {}
        }
      ]
    },
    {
      "cell_type": "code",
      "source": [
        "knn=KNeighborsClassifier(n_neighbors=11)\n",
        "knn.fit(X_train,y_train)"
      ],
      "metadata": {
        "colab": {
          "base_uri": "https://localhost:8080/",
          "height": 80
        },
        "id": "yIFxFk0a2VRs",
        "outputId": "420f7cae-1e2b-45ac-a7ec-a5098853b21b"
      },
      "execution_count": 28,
      "outputs": [
        {
          "output_type": "execute_result",
          "data": {
            "text/plain": [
              "KNeighborsClassifier(n_neighbors=11)"
            ],
            "text/html": [
              "<style>#sk-container-id-2 {\n",
              "  /* Definition of color scheme common for light and dark mode */\n",
              "  --sklearn-color-text: black;\n",
              "  --sklearn-color-line: gray;\n",
              "  /* Definition of color scheme for unfitted estimators */\n",
              "  --sklearn-color-unfitted-level-0: #fff5e6;\n",
              "  --sklearn-color-unfitted-level-1: #f6e4d2;\n",
              "  --sklearn-color-unfitted-level-2: #ffe0b3;\n",
              "  --sklearn-color-unfitted-level-3: chocolate;\n",
              "  /* Definition of color scheme for fitted estimators */\n",
              "  --sklearn-color-fitted-level-0: #f0f8ff;\n",
              "  --sklearn-color-fitted-level-1: #d4ebff;\n",
              "  --sklearn-color-fitted-level-2: #b3dbfd;\n",
              "  --sklearn-color-fitted-level-3: cornflowerblue;\n",
              "\n",
              "  /* Specific color for light theme */\n",
              "  --sklearn-color-text-on-default-background: var(--sg-text-color, var(--theme-code-foreground, var(--jp-content-font-color1, black)));\n",
              "  --sklearn-color-background: var(--sg-background-color, var(--theme-background, var(--jp-layout-color0, white)));\n",
              "  --sklearn-color-border-box: var(--sg-text-color, var(--theme-code-foreground, var(--jp-content-font-color1, black)));\n",
              "  --sklearn-color-icon: #696969;\n",
              "\n",
              "  @media (prefers-color-scheme: dark) {\n",
              "    /* Redefinition of color scheme for dark theme */\n",
              "    --sklearn-color-text-on-default-background: var(--sg-text-color, var(--theme-code-foreground, var(--jp-content-font-color1, white)));\n",
              "    --sklearn-color-background: var(--sg-background-color, var(--theme-background, var(--jp-layout-color0, #111)));\n",
              "    --sklearn-color-border-box: var(--sg-text-color, var(--theme-code-foreground, var(--jp-content-font-color1, white)));\n",
              "    --sklearn-color-icon: #878787;\n",
              "  }\n",
              "}\n",
              "\n",
              "#sk-container-id-2 {\n",
              "  color: var(--sklearn-color-text);\n",
              "}\n",
              "\n",
              "#sk-container-id-2 pre {\n",
              "  padding: 0;\n",
              "}\n",
              "\n",
              "#sk-container-id-2 input.sk-hidden--visually {\n",
              "  border: 0;\n",
              "  clip: rect(1px 1px 1px 1px);\n",
              "  clip: rect(1px, 1px, 1px, 1px);\n",
              "  height: 1px;\n",
              "  margin: -1px;\n",
              "  overflow: hidden;\n",
              "  padding: 0;\n",
              "  position: absolute;\n",
              "  width: 1px;\n",
              "}\n",
              "\n",
              "#sk-container-id-2 div.sk-dashed-wrapped {\n",
              "  border: 1px dashed var(--sklearn-color-line);\n",
              "  margin: 0 0.4em 0.5em 0.4em;\n",
              "  box-sizing: border-box;\n",
              "  padding-bottom: 0.4em;\n",
              "  background-color: var(--sklearn-color-background);\n",
              "}\n",
              "\n",
              "#sk-container-id-2 div.sk-container {\n",
              "  /* jupyter's `normalize.less` sets `[hidden] { display: none; }`\n",
              "     but bootstrap.min.css set `[hidden] { display: none !important; }`\n",
              "     so we also need the `!important` here to be able to override the\n",
              "     default hidden behavior on the sphinx rendered scikit-learn.org.\n",
              "     See: https://github.com/scikit-learn/scikit-learn/issues/21755 */\n",
              "  display: inline-block !important;\n",
              "  position: relative;\n",
              "}\n",
              "\n",
              "#sk-container-id-2 div.sk-text-repr-fallback {\n",
              "  display: none;\n",
              "}\n",
              "\n",
              "div.sk-parallel-item,\n",
              "div.sk-serial,\n",
              "div.sk-item {\n",
              "  /* draw centered vertical line to link estimators */\n",
              "  background-image: linear-gradient(var(--sklearn-color-text-on-default-background), var(--sklearn-color-text-on-default-background));\n",
              "  background-size: 2px 100%;\n",
              "  background-repeat: no-repeat;\n",
              "  background-position: center center;\n",
              "}\n",
              "\n",
              "/* Parallel-specific style estimator block */\n",
              "\n",
              "#sk-container-id-2 div.sk-parallel-item::after {\n",
              "  content: \"\";\n",
              "  width: 100%;\n",
              "  border-bottom: 2px solid var(--sklearn-color-text-on-default-background);\n",
              "  flex-grow: 1;\n",
              "}\n",
              "\n",
              "#sk-container-id-2 div.sk-parallel {\n",
              "  display: flex;\n",
              "  align-items: stretch;\n",
              "  justify-content: center;\n",
              "  background-color: var(--sklearn-color-background);\n",
              "  position: relative;\n",
              "}\n",
              "\n",
              "#sk-container-id-2 div.sk-parallel-item {\n",
              "  display: flex;\n",
              "  flex-direction: column;\n",
              "}\n",
              "\n",
              "#sk-container-id-2 div.sk-parallel-item:first-child::after {\n",
              "  align-self: flex-end;\n",
              "  width: 50%;\n",
              "}\n",
              "\n",
              "#sk-container-id-2 div.sk-parallel-item:last-child::after {\n",
              "  align-self: flex-start;\n",
              "  width: 50%;\n",
              "}\n",
              "\n",
              "#sk-container-id-2 div.sk-parallel-item:only-child::after {\n",
              "  width: 0;\n",
              "}\n",
              "\n",
              "/* Serial-specific style estimator block */\n",
              "\n",
              "#sk-container-id-2 div.sk-serial {\n",
              "  display: flex;\n",
              "  flex-direction: column;\n",
              "  align-items: center;\n",
              "  background-color: var(--sklearn-color-background);\n",
              "  padding-right: 1em;\n",
              "  padding-left: 1em;\n",
              "}\n",
              "\n",
              "\n",
              "/* Toggleable style: style used for estimator/Pipeline/ColumnTransformer box that is\n",
              "clickable and can be expanded/collapsed.\n",
              "- Pipeline and ColumnTransformer use this feature and define the default style\n",
              "- Estimators will overwrite some part of the style using the `sk-estimator` class\n",
              "*/\n",
              "\n",
              "/* Pipeline and ColumnTransformer style (default) */\n",
              "\n",
              "#sk-container-id-2 div.sk-toggleable {\n",
              "  /* Default theme specific background. It is overwritten whether we have a\n",
              "  specific estimator or a Pipeline/ColumnTransformer */\n",
              "  background-color: var(--sklearn-color-background);\n",
              "}\n",
              "\n",
              "/* Toggleable label */\n",
              "#sk-container-id-2 label.sk-toggleable__label {\n",
              "  cursor: pointer;\n",
              "  display: block;\n",
              "  width: 100%;\n",
              "  margin-bottom: 0;\n",
              "  padding: 0.5em;\n",
              "  box-sizing: border-box;\n",
              "  text-align: center;\n",
              "}\n",
              "\n",
              "#sk-container-id-2 label.sk-toggleable__label-arrow:before {\n",
              "  /* Arrow on the left of the label */\n",
              "  content: \"▸\";\n",
              "  float: left;\n",
              "  margin-right: 0.25em;\n",
              "  color: var(--sklearn-color-icon);\n",
              "}\n",
              "\n",
              "#sk-container-id-2 label.sk-toggleable__label-arrow:hover:before {\n",
              "  color: var(--sklearn-color-text);\n",
              "}\n",
              "\n",
              "/* Toggleable content - dropdown */\n",
              "\n",
              "#sk-container-id-2 div.sk-toggleable__content {\n",
              "  max-height: 0;\n",
              "  max-width: 0;\n",
              "  overflow: hidden;\n",
              "  text-align: left;\n",
              "  /* unfitted */\n",
              "  background-color: var(--sklearn-color-unfitted-level-0);\n",
              "}\n",
              "\n",
              "#sk-container-id-2 div.sk-toggleable__content.fitted {\n",
              "  /* fitted */\n",
              "  background-color: var(--sklearn-color-fitted-level-0);\n",
              "}\n",
              "\n",
              "#sk-container-id-2 div.sk-toggleable__content pre {\n",
              "  margin: 0.2em;\n",
              "  border-radius: 0.25em;\n",
              "  color: var(--sklearn-color-text);\n",
              "  /* unfitted */\n",
              "  background-color: var(--sklearn-color-unfitted-level-0);\n",
              "}\n",
              "\n",
              "#sk-container-id-2 div.sk-toggleable__content.fitted pre {\n",
              "  /* unfitted */\n",
              "  background-color: var(--sklearn-color-fitted-level-0);\n",
              "}\n",
              "\n",
              "#sk-container-id-2 input.sk-toggleable__control:checked~div.sk-toggleable__content {\n",
              "  /* Expand drop-down */\n",
              "  max-height: 200px;\n",
              "  max-width: 100%;\n",
              "  overflow: auto;\n",
              "}\n",
              "\n",
              "#sk-container-id-2 input.sk-toggleable__control:checked~label.sk-toggleable__label-arrow:before {\n",
              "  content: \"▾\";\n",
              "}\n",
              "\n",
              "/* Pipeline/ColumnTransformer-specific style */\n",
              "\n",
              "#sk-container-id-2 div.sk-label input.sk-toggleable__control:checked~label.sk-toggleable__label {\n",
              "  color: var(--sklearn-color-text);\n",
              "  background-color: var(--sklearn-color-unfitted-level-2);\n",
              "}\n",
              "\n",
              "#sk-container-id-2 div.sk-label.fitted input.sk-toggleable__control:checked~label.sk-toggleable__label {\n",
              "  background-color: var(--sklearn-color-fitted-level-2);\n",
              "}\n",
              "\n",
              "/* Estimator-specific style */\n",
              "\n",
              "/* Colorize estimator box */\n",
              "#sk-container-id-2 div.sk-estimator input.sk-toggleable__control:checked~label.sk-toggleable__label {\n",
              "  /* unfitted */\n",
              "  background-color: var(--sklearn-color-unfitted-level-2);\n",
              "}\n",
              "\n",
              "#sk-container-id-2 div.sk-estimator.fitted input.sk-toggleable__control:checked~label.sk-toggleable__label {\n",
              "  /* fitted */\n",
              "  background-color: var(--sklearn-color-fitted-level-2);\n",
              "}\n",
              "\n",
              "#sk-container-id-2 div.sk-label label.sk-toggleable__label,\n",
              "#sk-container-id-2 div.sk-label label {\n",
              "  /* The background is the default theme color */\n",
              "  color: var(--sklearn-color-text-on-default-background);\n",
              "}\n",
              "\n",
              "/* On hover, darken the color of the background */\n",
              "#sk-container-id-2 div.sk-label:hover label.sk-toggleable__label {\n",
              "  color: var(--sklearn-color-text);\n",
              "  background-color: var(--sklearn-color-unfitted-level-2);\n",
              "}\n",
              "\n",
              "/* Label box, darken color on hover, fitted */\n",
              "#sk-container-id-2 div.sk-label.fitted:hover label.sk-toggleable__label.fitted {\n",
              "  color: var(--sklearn-color-text);\n",
              "  background-color: var(--sklearn-color-fitted-level-2);\n",
              "}\n",
              "\n",
              "/* Estimator label */\n",
              "\n",
              "#sk-container-id-2 div.sk-label label {\n",
              "  font-family: monospace;\n",
              "  font-weight: bold;\n",
              "  display: inline-block;\n",
              "  line-height: 1.2em;\n",
              "}\n",
              "\n",
              "#sk-container-id-2 div.sk-label-container {\n",
              "  text-align: center;\n",
              "}\n",
              "\n",
              "/* Estimator-specific */\n",
              "#sk-container-id-2 div.sk-estimator {\n",
              "  font-family: monospace;\n",
              "  border: 1px dotted var(--sklearn-color-border-box);\n",
              "  border-radius: 0.25em;\n",
              "  box-sizing: border-box;\n",
              "  margin-bottom: 0.5em;\n",
              "  /* unfitted */\n",
              "  background-color: var(--sklearn-color-unfitted-level-0);\n",
              "}\n",
              "\n",
              "#sk-container-id-2 div.sk-estimator.fitted {\n",
              "  /* fitted */\n",
              "  background-color: var(--sklearn-color-fitted-level-0);\n",
              "}\n",
              "\n",
              "/* on hover */\n",
              "#sk-container-id-2 div.sk-estimator:hover {\n",
              "  /* unfitted */\n",
              "  background-color: var(--sklearn-color-unfitted-level-2);\n",
              "}\n",
              "\n",
              "#sk-container-id-2 div.sk-estimator.fitted:hover {\n",
              "  /* fitted */\n",
              "  background-color: var(--sklearn-color-fitted-level-2);\n",
              "}\n",
              "\n",
              "/* Specification for estimator info (e.g. \"i\" and \"?\") */\n",
              "\n",
              "/* Common style for \"i\" and \"?\" */\n",
              "\n",
              ".sk-estimator-doc-link,\n",
              "a:link.sk-estimator-doc-link,\n",
              "a:visited.sk-estimator-doc-link {\n",
              "  float: right;\n",
              "  font-size: smaller;\n",
              "  line-height: 1em;\n",
              "  font-family: monospace;\n",
              "  background-color: var(--sklearn-color-background);\n",
              "  border-radius: 1em;\n",
              "  height: 1em;\n",
              "  width: 1em;\n",
              "  text-decoration: none !important;\n",
              "  margin-left: 1ex;\n",
              "  /* unfitted */\n",
              "  border: var(--sklearn-color-unfitted-level-1) 1pt solid;\n",
              "  color: var(--sklearn-color-unfitted-level-1);\n",
              "}\n",
              "\n",
              ".sk-estimator-doc-link.fitted,\n",
              "a:link.sk-estimator-doc-link.fitted,\n",
              "a:visited.sk-estimator-doc-link.fitted {\n",
              "  /* fitted */\n",
              "  border: var(--sklearn-color-fitted-level-1) 1pt solid;\n",
              "  color: var(--sklearn-color-fitted-level-1);\n",
              "}\n",
              "\n",
              "/* On hover */\n",
              "div.sk-estimator:hover .sk-estimator-doc-link:hover,\n",
              ".sk-estimator-doc-link:hover,\n",
              "div.sk-label-container:hover .sk-estimator-doc-link:hover,\n",
              ".sk-estimator-doc-link:hover {\n",
              "  /* unfitted */\n",
              "  background-color: var(--sklearn-color-unfitted-level-3);\n",
              "  color: var(--sklearn-color-background);\n",
              "  text-decoration: none;\n",
              "}\n",
              "\n",
              "div.sk-estimator.fitted:hover .sk-estimator-doc-link.fitted:hover,\n",
              ".sk-estimator-doc-link.fitted:hover,\n",
              "div.sk-label-container:hover .sk-estimator-doc-link.fitted:hover,\n",
              ".sk-estimator-doc-link.fitted:hover {\n",
              "  /* fitted */\n",
              "  background-color: var(--sklearn-color-fitted-level-3);\n",
              "  color: var(--sklearn-color-background);\n",
              "  text-decoration: none;\n",
              "}\n",
              "\n",
              "/* Span, style for the box shown on hovering the info icon */\n",
              ".sk-estimator-doc-link span {\n",
              "  display: none;\n",
              "  z-index: 9999;\n",
              "  position: relative;\n",
              "  font-weight: normal;\n",
              "  right: .2ex;\n",
              "  padding: .5ex;\n",
              "  margin: .5ex;\n",
              "  width: min-content;\n",
              "  min-width: 20ex;\n",
              "  max-width: 50ex;\n",
              "  color: var(--sklearn-color-text);\n",
              "  box-shadow: 2pt 2pt 4pt #999;\n",
              "  /* unfitted */\n",
              "  background: var(--sklearn-color-unfitted-level-0);\n",
              "  border: .5pt solid var(--sklearn-color-unfitted-level-3);\n",
              "}\n",
              "\n",
              ".sk-estimator-doc-link.fitted span {\n",
              "  /* fitted */\n",
              "  background: var(--sklearn-color-fitted-level-0);\n",
              "  border: var(--sklearn-color-fitted-level-3);\n",
              "}\n",
              "\n",
              ".sk-estimator-doc-link:hover span {\n",
              "  display: block;\n",
              "}\n",
              "\n",
              "/* \"?\"-specific style due to the `<a>` HTML tag */\n",
              "\n",
              "#sk-container-id-2 a.estimator_doc_link {\n",
              "  float: right;\n",
              "  font-size: 1rem;\n",
              "  line-height: 1em;\n",
              "  font-family: monospace;\n",
              "  background-color: var(--sklearn-color-background);\n",
              "  border-radius: 1rem;\n",
              "  height: 1rem;\n",
              "  width: 1rem;\n",
              "  text-decoration: none;\n",
              "  /* unfitted */\n",
              "  color: var(--sklearn-color-unfitted-level-1);\n",
              "  border: var(--sklearn-color-unfitted-level-1) 1pt solid;\n",
              "}\n",
              "\n",
              "#sk-container-id-2 a.estimator_doc_link.fitted {\n",
              "  /* fitted */\n",
              "  border: var(--sklearn-color-fitted-level-1) 1pt solid;\n",
              "  color: var(--sklearn-color-fitted-level-1);\n",
              "}\n",
              "\n",
              "/* On hover */\n",
              "#sk-container-id-2 a.estimator_doc_link:hover {\n",
              "  /* unfitted */\n",
              "  background-color: var(--sklearn-color-unfitted-level-3);\n",
              "  color: var(--sklearn-color-background);\n",
              "  text-decoration: none;\n",
              "}\n",
              "\n",
              "#sk-container-id-2 a.estimator_doc_link.fitted:hover {\n",
              "  /* fitted */\n",
              "  background-color: var(--sklearn-color-fitted-level-3);\n",
              "}\n",
              "</style><div id=\"sk-container-id-2\" class=\"sk-top-container\"><div class=\"sk-text-repr-fallback\"><pre>KNeighborsClassifier(n_neighbors=11)</pre><b>In a Jupyter environment, please rerun this cell to show the HTML representation or trust the notebook. <br />On GitHub, the HTML representation is unable to render, please try loading this page with nbviewer.org.</b></div><div class=\"sk-container\" hidden><div class=\"sk-item\"><div class=\"sk-estimator fitted sk-toggleable\"><input class=\"sk-toggleable__control sk-hidden--visually\" id=\"sk-estimator-id-2\" type=\"checkbox\" checked><label for=\"sk-estimator-id-2\" class=\"sk-toggleable__label fitted sk-toggleable__label-arrow fitted\">&nbsp;&nbsp;KNeighborsClassifier<a class=\"sk-estimator-doc-link fitted\" rel=\"noreferrer\" target=\"_blank\" href=\"https://scikit-learn.org/1.5/modules/generated/sklearn.neighbors.KNeighborsClassifier.html\">?<span>Documentation for KNeighborsClassifier</span></a><span class=\"sk-estimator-doc-link fitted\">i<span>Fitted</span></span></label><div class=\"sk-toggleable__content fitted\"><pre>KNeighborsClassifier(n_neighbors=11)</pre></div> </div></div></div></div>"
            ]
          },
          "metadata": {},
          "execution_count": 28
        }
      ]
    },
    {
      "cell_type": "code",
      "source": [
        "y_pred=knn.predict(X_test)"
      ],
      "metadata": {
        "id": "JdQS9IQB2VUy"
      },
      "execution_count": 29,
      "outputs": []
    },
    {
      "cell_type": "code",
      "source": [
        "accuracy_score(y_test,y_pred)"
      ],
      "metadata": {
        "colab": {
          "base_uri": "https://localhost:8080/"
        },
        "id": "TbDgr9152VYE",
        "outputId": "8b6c0dc2-69a8-4c23-e191-cd37da26f77d"
      },
      "execution_count": 30,
      "outputs": [
        {
          "output_type": "execute_result",
          "data": {
            "text/plain": [
              "0.9"
            ]
          },
          "metadata": {},
          "execution_count": 30
        }
      ]
    },
    {
      "cell_type": "code",
      "source": [
        "def predict_output():\n",
        "    age=int(input(\"Enter the age \"))\n",
        "    salary=int(input(\"Enter the salary \"))\n",
        "\n",
        "    X_new=np.array([[age],[salary]]).reshape(1,2)\n",
        "    X_new=scaler.transform(X_new)\n",
        "\n",
        "    if knn.predict(X_new)[0]==0:\n",
        "        return \"Will not purchase\"\n",
        "    else:\n",
        "        return \"Will purchase\""
      ],
      "metadata": {
        "id": "LLMW8Xgv273S"
      },
      "execution_count": 33,
      "outputs": []
    },
    {
      "cell_type": "code",
      "source": [
        "predict_output()"
      ],
      "metadata": {
        "colab": {
          "base_uri": "https://localhost:8080/",
          "height": 70
        },
        "id": "GG9SsF83276p",
        "outputId": "4633672d-1381-4ee5-856b-033b786c84c3"
      },
      "execution_count": 34,
      "outputs": [
        {
          "name": "stdout",
          "output_type": "stream",
          "text": [
            "Enter the age 20\n",
            "Enter the salary 0\n"
          ]
        },
        {
          "output_type": "execute_result",
          "data": {
            "text/plain": [
              "'Will not purchase'"
            ],
            "application/vnd.google.colaboratory.intrinsic+json": {
              "type": "string"
            }
          },
          "metadata": {},
          "execution_count": 34
        }
      ]
    },
    {
      "cell_type": "markdown",
      "source": [
        "# 1. Decision Boundary for Knn\n",
        "## 1. What is Decision Boundary\n",
        "In a classification problem with two or more classes, a decision boundary or decision surface is a hypersurface that partitions the underlying vector space into two or more sets, one for each class. The classifier will classify all the points on one side of the decision boundary as belonging to one class and all those on the other side as belonging to the other class.\n",
        "\n",
        "\n",
        "Important Points\n",
        "\n",
        "1. We can draw decision boundary for all the classification algorithms including Neural networks\n",
        "2. Decision boundary can be both linear(as in the case of SVM) or non-linear(as in the case of Decision tree classifier or Knn)\n",
        "3. Decision boundaries are not always clear cut. That is, the transition from one class in the feature space to another is not discontinuous, but gradual. This effect is common in fuzzy logic based classification algorithms, where membership in one class or another is ambiguous.\n",
        "4. For higher dimension problems the decision boundary acts as a hyperplane(for linear ones)\n",
        "\n",
        "# 2. Vornoi Diagram\n",
        "In mathematics, a Voronoi diagram is a partitioning of a plane into regions based on distance to points in a specific subset of the plane.\n",
        "\n",
        "![image.png](data:image/png;base64,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)\n",
        "## 3. Steps to plot Decision Boundary for Knn(Assuming 2 input cols)\n",
        "1. Train the classifier on the training set.\n",
        "2. Create a uniform grid(with the help of Numpy Meshgrids) of points that densely cover the region of input space containing the training set.\n",
        "3. Classify each point on the grid. Store the results in an array A, where Aij contains the predicted class for the point at row i, column j on the grid.\n",
        "4. Plot the array as an image, where each pixel corresponds to a grid point and its color represents the predicted class. The decision boundary can be seen as contours where the image changes color.\n",
        "5. Finally print out the training data with their respective color on the same contour"
      ],
      "metadata": {
        "id": "d4lg0yps3ejy"
      }
    },
    {
      "cell_type": "markdown",
      "source": [
        "## Step 2: Creating a Meshgrid"
      ],
      "metadata": {
        "id": "v-qCbKHS4mTF"
      }
    },
    {
      "cell_type": "code",
      "source": [
        "a=np.arange(start=X_train[:,0].min()-1, stop=X_train[:,0].max()+1, step=0.01)\n",
        "b=np.arange(start=X_train[:,1].min()-1, stop=X_train[:,1].max()+1, step=0.01)\n",
        "\n",
        "XX,YY=np.meshgrid(a,b)"
      ],
      "metadata": {
        "id": "wnTECslJ27-O"
      },
      "execution_count": 36,
      "outputs": []
    },
    {
      "cell_type": "code",
      "source": [
        "YY.shape"
      ],
      "metadata": {
        "colab": {
          "base_uri": "https://localhost:8080/"
        },
        "id": "hg5dR4RU28CZ",
        "outputId": "d7daf7f5-0d49-4bd8-8fec-fa087b1eee19"
      },
      "execution_count": 37,
      "outputs": [
        {
          "output_type": "execute_result",
          "data": {
            "text/plain": [
              "(601, 597)"
            ]
          },
          "metadata": {},
          "execution_count": 37
        }
      ]
    },
    {
      "cell_type": "markdown",
      "source": [
        "## Step 3: Classifiying every point on the meshgrid"
      ],
      "metadata": {
        "id": "YaSle2Cn42j7"
      }
    },
    {
      "cell_type": "code",
      "source": [
        "input_array=np.array([XX.ravel(),YY.ravel()]).T\n",
        "\n",
        "labels=knn.predict(input_array)"
      ],
      "metadata": {
        "id": "QCIzQOtJ4y1K"
      },
      "execution_count": 38,
      "outputs": []
    },
    {
      "cell_type": "code",
      "source": [
        "XX.ravel()"
      ],
      "metadata": {
        "colab": {
          "base_uri": "https://localhost:8080/"
        },
        "id": "NMbF4hir5Dib",
        "outputId": "6c1d291a-66f7-46cd-ce98-5a7f15c366c2"
      },
      "execution_count": 40,
      "outputs": [
        {
          "output_type": "execute_result",
          "data": {
            "text/plain": [
              "array([-2.83492177, -2.82492177, -2.81492177, ...,  3.10507823,\n",
              "        3.11507823,  3.12507823])"
            ]
          },
          "metadata": {},
          "execution_count": 40
        }
      ]
    },
    {
      "cell_type": "code",
      "source": [
        "labels"
      ],
      "metadata": {
        "colab": {
          "base_uri": "https://localhost:8080/"
        },
        "id": "g1HgiIuf4y7G",
        "outputId": "d64cdf32-fcc6-47dc-ef52-24e53f15a0a5"
      },
      "execution_count": 39,
      "outputs": [
        {
          "output_type": "execute_result",
          "data": {
            "text/plain": [
              "array([0, 0, 0, ..., 1, 1, 1])"
            ]
          },
          "metadata": {},
          "execution_count": 39
        }
      ]
    },
    {
      "cell_type": "markdown",
      "source": [
        "## Step 4: Plotting the array as an image"
      ],
      "metadata": {
        "id": "o_Z23ATd5J4B"
      }
    },
    {
      "cell_type": "code",
      "source": [
        "plt.contourf(XX,YY,labels.reshape(XX.shape))"
      ],
      "metadata": {
        "colab": {
          "base_uri": "https://localhost:8080/",
          "height": 447
        },
        "id": "dYCqAMwU4y-r",
        "outputId": "deafd1c5-05af-47d8-b624-ec12ee46d7e7"
      },
      "execution_count": 41,
      "outputs": [
        {
          "output_type": "execute_result",
          "data": {
            "text/plain": [
              "<matplotlib.contour.QuadContourSet at 0x7c9db12f4220>"
            ]
          },
          "metadata": {},
          "execution_count": 41
        },
        {
          "output_type": "display_data",
          "data": {
            "text/plain": [
              "<Figure size 640x480 with 1 Axes>"
            ],
            "image/png": "[encoded data removed]"
          },
          "metadata": {}
        }
      ]
    },
    {
      "cell_type": "markdown",
      "source": [
        "## Step 5: Plotting all the training data on the plot"
      ],
      "metadata": {
        "id": "R5A4Z2MJ5aX6"
      }
    },
    {
      "cell_type": "code",
      "source": [
        "plt.contourf(XX,YY,labels.reshape(XX.shape), alpha=0.75)\n",
        "plt.scatter(X_train[:,0],X_train[:,1], c=y_train)"
      ],
      "metadata": {
        "colab": {
          "base_uri": "https://localhost:8080/",
          "height": 447
        },
        "id": "tRIFdWfO4zCe",
        "outputId": "6f2e48dc-42b4-4dda-f80a-3e59229ed0e3"
      },
      "execution_count": 44,
      "outputs": [
        {
          "output_type": "execute_result",
          "data": {
            "text/plain": [
              "<matplotlib.collections.PathCollection at 0x7c9db2286590>"
            ]
          },
          "metadata": {},
          "execution_count": 44
        },
        {
          "output_type": "display_data",
          "data": {
            "text/plain": [
              "<Figure size 640x480 with 1 Axes>"
            ],
            "image/png": "[encoded data removed]"
          },
          "metadata": {}
        }
      ]
    },
    {
      "cell_type": "code",
      "source": [],
      "metadata": {
        "id": "_fLwMwW65Rrq"
      },
      "execution_count": null,
      "outputs": []
    },
    {
      "cell_type": "code",
      "source": [],
      "metadata": {
        "id": "OtpzTag55Ruv"
      },
      "execution_count": null,
      "outputs": []
    }
  ]
}